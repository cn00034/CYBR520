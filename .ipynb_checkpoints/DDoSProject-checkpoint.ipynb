{
 "cells": [
  {
   "cell_type": "code",
   "execution_count": null,
   "id": "8411ac49-30e5-42a2-b851-6027432c2126",
   "metadata": {},
   "outputs": [],
   "source": []
  }
 ],
 "metadata": {
  "kernelspec": {
   "display_name": "",
   "name": ""
  },
  "language_info": {
   "name": ""
  }
 },
 "nbformat": 4,
 "nbformat_minor": 5
}
import pandas as pd
import matplotlib.pyplot as plt


df = pd.read_csv("C:/Users/josse/PycharmProjects/Group19_CYBR520_Fall24/Dataset/DDoSdata_sample_final.csv")


# Check for missing values in each column
print(df.isnull().sum())

# Visualize missing values
plt.show()

df.describe()

print(df.dtypes)

import pandas as pd
from sklearn.preprocessing import OneHotEncoder
from sklearn.feature_extraction.text import HashingVectorizer
# Optionally, import libraries for alternative hashing (e.g., LSH)

# ... (your data definition)

df = pd.DataFrame(data)

# One-hot encoding for categorical columns
categorical_cols = ['flgs', 'proto', 'state']
df = pd.get_dummies(df, columns=categorical_cols)

import pandas as pd
import ipaddress

def extract_ip_features(df, ip_column):
    df['ip_class'] = df[ip_column].apply(lambda x: ipaddress.ip_address(x).version)
    df['ip_private'] = df[ip_column].apply(lambda x: ipaddress.ip_address(x).is_private)
    # ... other features, such as subnet mask, network address, etc.

# Example usage:
df['saddr_features'] = extract_ip_features(df, 'saddr')
df['daddr_features'] = extract_ip_features(df, 'daddr')

# Now, the DataFrame 'df' contains numerical features (consider potential information loss/trade-offs)
print(df.head())

print(df.dtypes)

import pandas as pd
import matplotlib.pyplot as plt
import seaborn as sns

# Assuming your data is in a DataFrame named 'df' 1 

# Time series plot
plt.figure(figsize=(12, 6))
plt.plot(df['stime'], df['pkts'])
plt.xlabel('Timestamp')
plt.ylabel('Number of Packets')
plt.title('Packet Count Over Time')
plt.show()

# Histogram of packet sizes
plt.figure(figsize=(10, 6))
plt.hist(df['bytes'], bins=50)
plt.xlabel('Packet Size (bytes)')
plt.ylabel('Frequency')
plt.title('Packet Size Distribution')
plt.show()

# Scatter plot of packet size vs. duration
plt.figure(figsize=(10, 6))
sns.scatterplot(x='bytes', y='dur', data=df)
plt.xlabel('Packet Size (bytes)')
plt.ylabel('Duration (seconds)')
plt.title('Packet Size vs. Duration')
plt.show()

#What is the distribution of different attack categories and subcategories?

import pandas as pd
import matplotlib.pyplot as plt

# Assuming your data is in a DataFrame named 'df'

# Group by category and count occurrences
category_counts = df.groupby('category').size()
subcategory_counts = df.groupby(['category', 'subcategory']).size()

# Print the counts
print(category_counts)
print(subcategory_counts)

# Visualize the distribution
category_counts.plot(kind='bar')
plt.title('Attack Category Distribution')
plt.xlabel('Category')
plt.ylabel('Count')
plt.show()

subcategory_counts.unstack().plot(kind='bar')
plt.title('Attack Subcategory Distribution')
plt.xlabel('Subcategory')
plt.ylabel('Count')
plt.show()

import pandas as pd
import networkx as nx
import matplotlib.pyplot as plt

# Assuming your data is in a CSV file
df = pd.read_csv("C:/Users/josse/PycharmProjects/Group19_CYBR520_Fall24/Dataset/DDoSdata_sample_final.csv")

# Create a directed graph
G = nx.DiGraph()

# Add edges to the graph, representing communication between devices
for index, row in df.iterrows():
    G.add_edge(row['saddr'], row['daddr'], weight=row['bytes'])

# Visualize the network graph
plt.figure(figsize=(15, 10))
pos = nx.spring_layout(G, k=0.15)  # Adjust k for layout customization
nx.draw_networkx(G, pos, node_size=50, node_color='lightblue', alpha=0.7)
plt.show()
